{
 "cells": [
  {
   "cell_type": "code",
   "execution_count": 1,
   "metadata": {},
   "outputs": [],
   "source": [
    "import konlpy\n",
    "import pandas as pd\n",
    "from gensim.models.word2vec import Word2Vec\n",
    "import numpy as np\n",
    "import matplotlib.pyplot as plt"
   ]
  },
  {
   "cell_type": "code",
   "execution_count": 3,
   "metadata": {},
   "outputs": [
    {
     "data": {
      "text/html": [
       "<div>\n",
       "<style scoped>\n",
       "    .dataframe tbody tr th:only-of-type {\n",
       "        vertical-align: middle;\n",
       "    }\n",
       "\n",
       "    .dataframe tbody tr th {\n",
       "        vertical-align: top;\n",
       "    }\n",
       "\n",
       "    .dataframe thead th {\n",
       "        text-align: right;\n",
       "    }\n",
       "</style>\n",
       "<table border=\"1\" class=\"dataframe\">\n",
       "  <thead>\n",
       "    <tr style=\"text-align: right;\">\n",
       "      <th></th>\n",
       "      <th>Unnamed: 0</th>\n",
       "      <th>image_name</th>\n",
       "      <th>image_url</th>\n",
       "      <th>content</th>\n",
       "      <th>location</th>\n",
       "      <th>hashtags</th>\n",
       "    </tr>\n",
       "  </thead>\n",
       "  <tbody>\n",
       "    <tr>\n",
       "      <th>0</th>\n",
       "      <td>0</td>\n",
       "      <td>육아_0.jpg</td>\n",
       "      <td>https://scontent-ssn1-1.cdninstagram.com/v/t51...</td>\n",
       "      <td>진짜 오랜만에 결이랑 머리한 기념으로 카페를 갔다. 원래 못가는거였는데 나를 잘 아...</td>\n",
       "      <td>NaN</td>\n",
       "      <td>#엄마랑아들#육아#육아맘#평택카페#평택맛집#육아스타그램#육아소통#아기가있는집#쥐띠아...</td>\n",
       "    </tr>\n",
       "    <tr>\n",
       "      <th>1</th>\n",
       "      <td>1</td>\n",
       "      <td>육아_1.jpg</td>\n",
       "      <td>https://scontent-ssn1-1.cdninstagram.com/v/t51...</td>\n",
       "      <td>하린이에게 동생이 생겼어요 . . . 👶🏻❤️\\n\\n너무도 갑자기 찾아온 둘째라,\\...</td>\n",
       "      <td>NaN</td>\n",
       "      <td>#둘째#임밍아웃#곧애둘엄마_실화냐#심쿵아#엄마아빠에게와주어고마워#자매맘#두딸맘#예비...</td>\n",
       "    </tr>\n",
       "    <tr>\n",
       "      <th>2</th>\n",
       "      <td>2</td>\n",
       "      <td>육아_2.jpg</td>\n",
       "      <td>https://scontent-ssn1-1.cdninstagram.com/v/t51...</td>\n",
       "      <td>+999❤\\n⠀\\n⠀\\n\\n친정와서 🐷모드지만 얻어걸린 사진\\n햇볕이 내얼굴살 1/...</td>\n",
       "      <td>NaN</td>\n",
       "      <td>#친정#모녀#투샷#육아#육아소통#소통#위로#진심#데일리#커피#남매#남매맘#남매그램#...</td>\n",
       "    </tr>\n",
       "    <tr>\n",
       "      <th>3</th>\n",
       "      <td>3</td>\n",
       "      <td>육아_3.jpg</td>\n",
       "      <td>https://scontent-ssn1-1.cdninstagram.com/v/t51...</td>\n",
       "      <td>셀카찍는것도\\n올리는것두 어색한 써리원 남매맘🙃</td>\n",
       "      <td>물왕저수지</td>\n",
       "      <td>#수원#수원맘#육아#육아소통#육아소통환영#남매맘#부부스타그램#물왕리#물왕리저수지#안...</td>\n",
       "    </tr>\n",
       "    <tr>\n",
       "      <th>4</th>\n",
       "      <td>4</td>\n",
       "      <td>육아_4.jpg</td>\n",
       "      <td>https://scontent-ssn1-1.cdninstagram.com/v/t51...</td>\n",
       "      <td>#36w5d\\n10개월차 만삭 임산부☺️\\n이제 몸무게도 많이 늘어서 언제나와도\\n...</td>\n",
       "      <td>NaN</td>\n",
       "      <td>#36w5d#얼마안남은#d라인#주수사진#임산부#예비맘#육아#육아소통#육아스타그램</td>\n",
       "    </tr>\n",
       "    <tr>\n",
       "      <th>5</th>\n",
       "      <td>5</td>\n",
       "      <td>육아_5.jpg</td>\n",
       "      <td>https://scontent-ssn1-1.cdninstagram.com/v/t51...</td>\n",
       "      <td>#안아줘병#안안아주면주저앉음#눈맞춤서비스중\\n.\\n길에서 이러지 않기로 약속해 😑....</td>\n",
       "      <td>NaN</td>\n",
       "      <td>#안아줘병#안안아주면주저앉음#눈맞춤서비스중#자기야미안먼저갈게#일산#일산맘#육아#육아...</td>\n",
       "    </tr>\n",
       "    <tr>\n",
       "      <th>6</th>\n",
       "      <td>6</td>\n",
       "      <td>육아_6.jpg</td>\n",
       "      <td>https://scontent-ssn1-1.cdninstagram.com/v/t51...</td>\n",
       "      <td>⠀⠀\\n우리딸 사랑해 🙊\\n⠀⠀\\n⠀⠀\\n#생후680일</td>\n",
       "      <td>NaN</td>\n",
       "      <td>#생후680일</td>\n",
       "    </tr>\n",
       "    <tr>\n",
       "      <th>7</th>\n",
       "      <td>7</td>\n",
       "      <td>육아_7.jpg</td>\n",
       "      <td>https://scontent-ssn1-1.cdninstagram.com/v/t51...</td>\n",
       "      <td>🙉\\n애 키우면서 밝은 옷은 사치일 뿐😊\\n.\\n.\\n.\\n#멱살은왜케잡는지 #목이...</td>\n",
       "      <td>NaN</td>\n",
       "      <td>#멱살은왜케잡는지#목이너덜너덜#좋은옷필요없다#싼거로돌려입자#가릴데만가리면되지#일상#...</td>\n",
       "    </tr>\n",
       "    <tr>\n",
       "      <th>8</th>\n",
       "      <td>8</td>\n",
       "      <td>육아_8.jpg</td>\n",
       "      <td>https://scontent-ssn1-1.cdninstagram.com/v/t51...</td>\n",
       "      <td>#부녀샷\\n\\nㅈ..저기요?\\n두분이서 오셨나봐요\\n\\n내연하남친들 다 어디갔쒀😤\\...</td>\n",
       "      <td>NaN</td>\n",
       "      <td>#부녀샷#그들만의세상#낄자리가없다#딸한테남편뺏김ㅋ_ㅋ#유하그램🌿#쥐띠아기#7개월아기...</td>\n",
       "    </tr>\n",
       "    <tr>\n",
       "      <th>9</th>\n",
       "      <td>9</td>\n",
       "      <td>육아_9.jpg</td>\n",
       "      <td>https://scontent-ssn1-1.cdninstagram.com/v/t51...</td>\n",
       "      <td>오늘 하루, 그림책♡\\n(난, 토마토 절대 안 먹어.)\\nㆍ\\nㆍ\\nㆍ\\n편견에 대...</td>\n",
       "      <td>NaN</td>\n",
       "      <td>#포항#포항원데이#원데이클래스#그림책놀이#정기수업#월요놀이#육아#육아스타그램#일상#...</td>\n",
       "    </tr>\n",
       "  </tbody>\n",
       "</table>\n",
       "</div>"
      ],
      "text/plain": [
       "   Unnamed: 0 image_name                                          image_url  \\\n",
       "0           0   육아_0.jpg  https://scontent-ssn1-1.cdninstagram.com/v/t51...   \n",
       "1           1   육아_1.jpg  https://scontent-ssn1-1.cdninstagram.com/v/t51...   \n",
       "2           2   육아_2.jpg  https://scontent-ssn1-1.cdninstagram.com/v/t51...   \n",
       "3           3   육아_3.jpg  https://scontent-ssn1-1.cdninstagram.com/v/t51...   \n",
       "4           4   육아_4.jpg  https://scontent-ssn1-1.cdninstagram.com/v/t51...   \n",
       "5           5   육아_5.jpg  https://scontent-ssn1-1.cdninstagram.com/v/t51...   \n",
       "6           6   육아_6.jpg  https://scontent-ssn1-1.cdninstagram.com/v/t51...   \n",
       "7           7   육아_7.jpg  https://scontent-ssn1-1.cdninstagram.com/v/t51...   \n",
       "8           8   육아_8.jpg  https://scontent-ssn1-1.cdninstagram.com/v/t51...   \n",
       "9           9   육아_9.jpg  https://scontent-ssn1-1.cdninstagram.com/v/t51...   \n",
       "\n",
       "                                             content location  \\\n",
       "0  진짜 오랜만에 결이랑 머리한 기념으로 카페를 갔다. 원래 못가는거였는데 나를 잘 아...      NaN   \n",
       "1  하린이에게 동생이 생겼어요 . . . 👶🏻❤️\\n\\n너무도 갑자기 찾아온 둘째라,\\...      NaN   \n",
       "2  +999❤\\n⠀\\n⠀\\n\\n친정와서 🐷모드지만 얻어걸린 사진\\n햇볕이 내얼굴살 1/...      NaN   \n",
       "3                         셀카찍는것도\\n올리는것두 어색한 써리원 남매맘🙃    물왕저수지   \n",
       "4  #36w5d\\n10개월차 만삭 임산부☺️\\n이제 몸무게도 많이 늘어서 언제나와도\\n...      NaN   \n",
       "5  #안아줘병#안안아주면주저앉음#눈맞춤서비스중\\n.\\n길에서 이러지 않기로 약속해 😑....      NaN   \n",
       "6                     ⠀⠀\\n우리딸 사랑해 🙊\\n⠀⠀\\n⠀⠀\\n#생후680일      NaN   \n",
       "7  🙉\\n애 키우면서 밝은 옷은 사치일 뿐😊\\n.\\n.\\n.\\n#멱살은왜케잡는지 #목이...      NaN   \n",
       "8  #부녀샷\\n\\nㅈ..저기요?\\n두분이서 오셨나봐요\\n\\n내연하남친들 다 어디갔쒀😤\\...      NaN   \n",
       "9  오늘 하루, 그림책♡\\n(난, 토마토 절대 안 먹어.)\\nㆍ\\nㆍ\\nㆍ\\n편견에 대...      NaN   \n",
       "\n",
       "                                            hashtags  \n",
       "0  #엄마랑아들#육아#육아맘#평택카페#평택맛집#육아스타그램#육아소통#아기가있는집#쥐띠아...  \n",
       "1  #둘째#임밍아웃#곧애둘엄마_실화냐#심쿵아#엄마아빠에게와주어고마워#자매맘#두딸맘#예비...  \n",
       "2  #친정#모녀#투샷#육아#육아소통#소통#위로#진심#데일리#커피#남매#남매맘#남매그램#...  \n",
       "3  #수원#수원맘#육아#육아소통#육아소통환영#남매맘#부부스타그램#물왕리#물왕리저수지#안...  \n",
       "4       #36w5d#얼마안남은#d라인#주수사진#임산부#예비맘#육아#육아소통#육아스타그램  \n",
       "5  #안아줘병#안안아주면주저앉음#눈맞춤서비스중#자기야미안먼저갈게#일산#일산맘#육아#육아...  \n",
       "6                                            #생후680일  \n",
       "7  #멱살은왜케잡는지#목이너덜너덜#좋은옷필요없다#싼거로돌려입자#가릴데만가리면되지#일상#...  \n",
       "8  #부녀샷#그들만의세상#낄자리가없다#딸한테남편뺏김ㅋ_ㅋ#유하그램🌿#쥐띠아기#7개월아기...  \n",
       "9  #포항#포항원데이#원데이클래스#그림책놀이#정기수업#월요놀이#육아#육아스타그램#일상#...  "
      ]
     },
     "execution_count": 3,
     "metadata": {},
     "output_type": "execute_result"
    }
   ],
   "source": [
    "df = pd.read_csv(\"data.csv\")\n",
    "df.head(10)"
   ]
  },
  {
   "cell_type": "code",
   "execution_count": 4,
   "metadata": {},
   "outputs": [
    {
     "data": {
      "text/plain": [
       "0    #엄마랑아들#육아#육아맘#평택카페#평택맛집#육아스타그램#육아소통#아기가있는집#쥐띠아...\n",
       "1    #둘째#임밍아웃#곧애둘엄마_실화냐#심쿵아#엄마아빠에게와주어고마워#자매맘#두딸맘#예비...\n",
       "2    #친정#모녀#투샷#육아#육아소통#소통#위로#진심#데일리#커피#남매#남매맘#남매그램#...\n",
       "3    #수원#수원맘#육아#육아소통#육아소통환영#남매맘#부부스타그램#물왕리#물왕리저수지#안...\n",
       "4         #36w5d#얼마안남은#d라인#주수사진#임산부#예비맘#육아#육아소통#육아스타그램\n",
       "5    #안아줘병#안안아주면주저앉음#눈맞춤서비스중#자기야미안먼저갈게#일산#일산맘#육아#육아...\n",
       "6                                              #생후680일\n",
       "7    #멱살은왜케잡는지#목이너덜너덜#좋은옷필요없다#싼거로돌려입자#가릴데만가리면되지#일상#...\n",
       "8    #부녀샷#그들만의세상#낄자리가없다#딸한테남편뺏김ㅋ_ㅋ#유하그램🌿#쥐띠아기#7개월아기...\n",
       "9    #포항#포항원데이#원데이클래스#그림책놀이#정기수업#월요놀이#육아#육아스타그램#일상#...\n",
       "Name: hashtags, dtype: object"
      ]
     },
     "execution_count": 4,
     "metadata": {},
     "output_type": "execute_result"
    }
   ],
   "source": [
    "hashtags = df['hashtags']\n",
    "hashtags[:10]"
   ]
  },
  {
   "cell_type": "code",
   "execution_count": 5,
   "metadata": {},
   "outputs": [
    {
     "data": {
      "text/plain": [
       "str"
      ]
     },
     "execution_count": 5,
     "metadata": {},
     "output_type": "execute_result"
    }
   ],
   "source": [
    "hashtags = list(df['hashtags'])\n",
    "type(hashtags[0])"
   ]
  },
  {
   "cell_type": "code",
   "execution_count": 6,
   "metadata": {},
   "outputs": [],
   "source": [
    "from eunjeon import Mecab\n",
    "mecab = Mecab()\n",
    "okt = konlpy.tag.Okt()\n",
    "kkma = konlpy.tag.Kkma()"
   ]
  },
  {
   "cell_type": "code",
   "execution_count": 7,
   "metadata": {},
   "outputs": [
    {
     "data": {
      "text/html": [
       "<div>\n",
       "<style scoped>\n",
       "    .dataframe tbody tr th:only-of-type {\n",
       "        vertical-align: middle;\n",
       "    }\n",
       "\n",
       "    .dataframe tbody tr th {\n",
       "        vertical-align: top;\n",
       "    }\n",
       "\n",
       "    .dataframe thead th {\n",
       "        text-align: right;\n",
       "    }\n",
       "</style>\n",
       "<table border=\"1\" class=\"dataframe\">\n",
       "  <thead>\n",
       "    <tr style=\"text-align: right;\">\n",
       "      <th></th>\n",
       "      <th>Unnamed: 0</th>\n",
       "      <th>image_name</th>\n",
       "      <th>image_url</th>\n",
       "      <th>content</th>\n",
       "      <th>location</th>\n",
       "      <th>hashtags</th>\n",
       "    </tr>\n",
       "  </thead>\n",
       "  <tbody>\n",
       "    <tr>\n",
       "      <th>0</th>\n",
       "      <td>0</td>\n",
       "      <td>육아_0.jpg</td>\n",
       "      <td>https://scontent-ssn1-1.cdninstagram.com/v/t51...</td>\n",
       "      <td>진짜 오랜만에 결이랑 머리한 기념으로 카페를 갔다. 원래 못가는거였는데 나를 잘 아...</td>\n",
       "      <td>NaN</td>\n",
       "      <td>#엄마랑아들#육아#육아맘#평택카페#평택맛집#육아스타그램#육아소통#아기가있는집#쥐띠아...</td>\n",
       "    </tr>\n",
       "    <tr>\n",
       "      <th>1</th>\n",
       "      <td>1</td>\n",
       "      <td>육아_1.jpg</td>\n",
       "      <td>https://scontent-ssn1-1.cdninstagram.com/v/t51...</td>\n",
       "      <td>하린이에게 동생이 생겼어요 . . . 👶🏻❤️\\n\\n너무도 갑자기 찾아온 둘째라,\\...</td>\n",
       "      <td>NaN</td>\n",
       "      <td>#둘째#임밍아웃#곧애둘엄마_실화냐#심쿵아#엄마아빠에게와주어고마워#자매맘#두딸맘#예비...</td>\n",
       "    </tr>\n",
       "    <tr>\n",
       "      <th>2</th>\n",
       "      <td>2</td>\n",
       "      <td>육아_2.jpg</td>\n",
       "      <td>https://scontent-ssn1-1.cdninstagram.com/v/t51...</td>\n",
       "      <td>+999❤\\n⠀\\n⠀\\n\\n친정와서 🐷모드지만 얻어걸린 사진\\n햇볕이 내얼굴살 1/...</td>\n",
       "      <td>NaN</td>\n",
       "      <td>#친정#모녀#투샷#육아#육아소통#소통#위로#진심#데일리#커피#남매#남매맘#남매그램#...</td>\n",
       "    </tr>\n",
       "    <tr>\n",
       "      <th>3</th>\n",
       "      <td>3</td>\n",
       "      <td>육아_3.jpg</td>\n",
       "      <td>https://scontent-ssn1-1.cdninstagram.com/v/t51...</td>\n",
       "      <td>셀카찍는것도\\n올리는것두 어색한 써리원 남매맘🙃</td>\n",
       "      <td>물왕저수지</td>\n",
       "      <td>#수원#수원맘#육아#육아소통#육아소통환영#남매맘#부부스타그램#물왕리#물왕리저수지#안...</td>\n",
       "    </tr>\n",
       "    <tr>\n",
       "      <th>4</th>\n",
       "      <td>4</td>\n",
       "      <td>육아_4.jpg</td>\n",
       "      <td>https://scontent-ssn1-1.cdninstagram.com/v/t51...</td>\n",
       "      <td>#36w5d\\n10개월차 만삭 임산부☺️\\n이제 몸무게도 많이 늘어서 언제나와도\\n...</td>\n",
       "      <td>NaN</td>\n",
       "      <td>#36w5d#얼마안남은#d라인#주수사진#임산부#예비맘#육아#육아소통#육아스타그램</td>\n",
       "    </tr>\n",
       "  </tbody>\n",
       "</table>\n",
       "</div>"
      ],
      "text/plain": [
       "   Unnamed: 0 image_name                                          image_url  \\\n",
       "0           0   육아_0.jpg  https://scontent-ssn1-1.cdninstagram.com/v/t51...   \n",
       "1           1   육아_1.jpg  https://scontent-ssn1-1.cdninstagram.com/v/t51...   \n",
       "2           2   육아_2.jpg  https://scontent-ssn1-1.cdninstagram.com/v/t51...   \n",
       "3           3   육아_3.jpg  https://scontent-ssn1-1.cdninstagram.com/v/t51...   \n",
       "4           4   육아_4.jpg  https://scontent-ssn1-1.cdninstagram.com/v/t51...   \n",
       "\n",
       "                                             content location  \\\n",
       "0  진짜 오랜만에 결이랑 머리한 기념으로 카페를 갔다. 원래 못가는거였는데 나를 잘 아...      NaN   \n",
       "1  하린이에게 동생이 생겼어요 . . . 👶🏻❤️\\n\\n너무도 갑자기 찾아온 둘째라,\\...      NaN   \n",
       "2  +999❤\\n⠀\\n⠀\\n\\n친정와서 🐷모드지만 얻어걸린 사진\\n햇볕이 내얼굴살 1/...      NaN   \n",
       "3                         셀카찍는것도\\n올리는것두 어색한 써리원 남매맘🙃    물왕저수지   \n",
       "4  #36w5d\\n10개월차 만삭 임산부☺️\\n이제 몸무게도 많이 늘어서 언제나와도\\n...      NaN   \n",
       "\n",
       "                                            hashtags  \n",
       "0  #엄마랑아들#육아#육아맘#평택카페#평택맛집#육아스타그램#육아소통#아기가있는집#쥐띠아...  \n",
       "1  #둘째#임밍아웃#곧애둘엄마_실화냐#심쿵아#엄마아빠에게와주어고마워#자매맘#두딸맘#예비...  \n",
       "2  #친정#모녀#투샷#육아#육아소통#소통#위로#진심#데일리#커피#남매#남매맘#남매그램#...  \n",
       "3  #수원#수원맘#육아#육아소통#육아소통환영#남매맘#부부스타그램#물왕리#물왕리저수지#안...  \n",
       "4       #36w5d#얼마안남은#d라인#주수사진#임산부#예비맘#육아#육아소통#육아스타그램  "
      ]
     },
     "execution_count": 7,
     "metadata": {},
     "output_type": "execute_result"
    }
   ],
   "source": [
    "df.head()"
   ]
  },
  {
   "cell_type": "code",
   "execution_count": 8,
   "metadata": {
    "scrolled": true
   },
   "outputs": [
    {
     "name": "stdout",
     "output_type": "stream",
     "text": [
      "['엄마랑아들 육아 육아맘 평택카페 평택맛집 육아스타그램 육아소통 아기가있는집 쥐띠아기 젊줌마 카페 cafe 커피해요 daily 데일리 감성사진 아들맘 소띠맘 예비맘 쥐띠맘 좋아요 좋반 좋아요반사 followforfollowback 팔로우미 ootd 셀카 소통 맞팔 육아맞팔', '둘째 임밍아웃 곧애둘엄마_실화냐 심쿵아 엄마아빠에게와주어고마워 자매맘 두딸맘 예비소띠맘 임신 예비둘째맘 둘째임밍아웃 육아 소통 육아소통 감성 감성육아', '친정 모녀 투샷 육아 육아소통 소통 위로 진심 데일리 커피 남매 남매맘 남매그램 세젤귀 투샷 육아용품 이유식 유아식단 식판식 좋아요', '수원 수원맘 육아 육아소통 육아소통환영 남매맘 부부스타그램 물왕리 물왕리저수지 안산 시흥 자유부인 물왕리저수지카페 아초원', '36w5d 얼마안남은 d라인 주수사진 임산부 예비맘 육아 육아소통 육아스타그램']\n"
     ]
    }
   ],
   "source": [
    "hashtag_list = []\n",
    "for i in range(len(hashtags)):\n",
    "    if type(hashtags[i]) != str:\n",
    "        hashtag_list.append('')\n",
    "    else:\n",
    "        hashtag_list.append(' '.join(hashtags[i].split('#')[1:]))\n",
    "print(hashtag_list[:5])"
   ]
  },
  {
   "cell_type": "code",
   "execution_count": 9,
   "metadata": {},
   "outputs": [
    {
     "name": "stdout",
     "output_type": "stream",
     "text": [
      "[['엄마', '랑', '아들', '육아', '육아', '맘', '평택', '카페', '평택', '맛집', '육아', '스타', '그램', '육아', '소통', '아기', '가', '있', '는', '집', '쥐띠', '아기', '젊', '줌', '마', '카페', 'cafe', '커피', '해요', 'daily', '데일리', '감성', '사진', '아들', '맘', '소띠', '맘', '예비', '맘', '쥐띠', '맘', '좋', '아요', '좋', '반', '좋', '아요', '반사', 'followforfollowback', '팔', '로', '우미', 'ootd', '셀카', '소통', '맞', '팔', '육', '아', '맞', '팔'], ['둘째', '임', '밍', '아웃', '곧', '애', '둘', '엄마', '_', '실화', '냐', '심', '쿵', '아', '엄마', '아빠', '에게', '와', '주', '어', '고마워', '자매', '맘', '두', '딸', '맘', '예비', '소띠', '맘', '임신', '예비', '둘째', '맘', '둘째', '임', '밍', '아웃', '육아', '소통', '육아', '소통', '감성', '감성', '육아'], ['친정', '모녀', '투', '샷', '육아', '육아', '소통', '소통', '위', '로', '진심', '데일리', '커피', '남매', '남매', '맘', '남매', '그램', '세', '젤', '귀', '투', '샷', '육아', '용품', '이', '유식', '유아', '식단', '식판', '식', '좋', '아요'], ['수원', '수원', '맘', '육아', '육아', '소통', '육아', '소통', '환영', '남매', '맘', '부부', '스타', '그램', '물왕', '리', '물왕', '리저', '수지', '안산', '시흥', '자유', '부인', '물왕', '리저', '수지', '카페', '아', '초원'], ['36', 'w', '5', 'd', '얼마', '안', '남', '은', 'd', '라인', '주수', '사진', '임산부', '예비', '맘', '육아', '육아', '소통', '육아', '스타', '그램']]\n"
     ]
    }
   ],
   "source": [
    "tokenized = []\n",
    "for sentence in hashtag_list:\n",
    "    tokens = mecab.morphs(sentence)\n",
    "    tokenized.append(tokens)\n",
    "print(tokenized[:5])"
   ]
  },
  {
   "cell_type": "code",
   "execution_count": 10,
   "metadata": {
    "scrolled": false
   },
   "outputs": [
    {
     "data": {
      "image/png": "[encoded data removed]",
      "text/plain": [
       "<Figure size 432x288 with 1 Axes>"
      ]
     },
     "metadata": {
      "needs_background": "light"
     },
     "output_type": "display_data"
    }
   ],
   "source": [
    "plt.hist([len(s) for s in tokenized], bins=50)\n",
    "plt.show()"
   ]
  },
  {
   "cell_type": "code",
   "execution_count": 14,
   "metadata": {},
   "outputs": [],
   "source": [
    "from gensim.models import Word2Vec\n",
    "model = Word2Vec(sentences = tokenized, size = 100, window = 10, min_count = 5, workers = 4, sg = 1)"
   ]
  },
  {
   "cell_type": "code",
   "execution_count": 12,
   "metadata": {},
   "outputs": [
    {
     "data": {
      "text/plain": [
       "(926, 100)"
      ]
     },
     "execution_count": 12,
     "metadata": {},
     "output_type": "execute_result"
    }
   ],
   "source": [
    "model.wv.vectors.shape"
   ]
  },
  {
   "cell_type": "code",
   "execution_count": 15,
   "metadata": {
    "scrolled": true
   },
   "outputs": [
    {
     "name": "stdout",
     "output_type": "stream",
     "text": [
      "[('귀여운', 0.8903920650482178), ('연년생', 0.8838666081428528), ('14', 0.874922513961792), ('잘생긴', 0.8588448166847229), ('모델', 0.8580319285392761), ('예쁜', 0.8580145835876465), ('아가', 0.8569360375404358), ('웃', 0.8482080101966858), ('31', 0.8425246477127075), ('베이비', 0.8410151600837708)]\n"
     ]
    }
   ],
   "source": [
    "print(model.wv.most_similar('아기'))"
   ]
  },
  {
   "cell_type": "code",
   "execution_count": 16,
   "metadata": {
    "scrolled": false
   },
   "outputs": [
    {
     "data": {
      "text/plain": [
       "[('귀여운', 0.8903920650482178),\n",
       " ('연년생', 0.8838666081428528),\n",
       " ('14', 0.874922513961792),\n",
       " ('잘생긴', 0.8588448166847229),\n",
       " ('모델', 0.8580319285392761),\n",
       " ('예쁜', 0.8580145835876465),\n",
       " ('아가', 0.8569360375404358),\n",
       " ('웃', 0.8482080101966858),\n",
       " ('31', 0.8425246477127075),\n",
       " ('베이비', 0.8410151600837708)]"
      ]
     },
     "execution_count": 16,
     "metadata": {},
     "output_type": "execute_result"
    }
   ],
   "source": [
    "t = '아기'\n",
    "model.wv.most_similar(t,topn=10)"
   ]
  },
  {
   "cell_type": "code",
   "execution_count": 17,
   "metadata": {
    "scrolled": false
   },
   "outputs": [
    {
     "data": {
      "text/html": [
       "<div>\n",
       "<style scoped>\n",
       "    .dataframe tbody tr th:only-of-type {\n",
       "        vertical-align: middle;\n",
       "    }\n",
       "\n",
       "    .dataframe tbody tr th {\n",
       "        vertical-align: top;\n",
       "    }\n",
       "\n",
       "    .dataframe thead th {\n",
       "        text-align: right;\n",
       "    }\n",
       "</style>\n",
       "<table border=\"1\" class=\"dataframe\">\n",
       "  <thead>\n",
       "    <tr style=\"text-align: right;\">\n",
       "      <th></th>\n",
       "      <th>Token</th>\n",
       "      <th>Similarity</th>\n",
       "      <th>transition_probability</th>\n",
       "    </tr>\n",
       "  </thead>\n",
       "  <tbody>\n",
       "    <tr>\n",
       "      <th>0</th>\n",
       "      <td>귀여운</td>\n",
       "      <td>0.890392</td>\n",
       "      <td>0.267118</td>\n",
       "    </tr>\n",
       "    <tr>\n",
       "      <th>1</th>\n",
       "      <td>연년생</td>\n",
       "      <td>0.883867</td>\n",
       "      <td>0.265160</td>\n",
       "    </tr>\n",
       "    <tr>\n",
       "      <th>2</th>\n",
       "      <td>14</td>\n",
       "      <td>0.874923</td>\n",
       "      <td>0.262477</td>\n",
       "    </tr>\n",
       "    <tr>\n",
       "      <th>3</th>\n",
       "      <td>잘생긴</td>\n",
       "      <td>0.858845</td>\n",
       "      <td>0.257653</td>\n",
       "    </tr>\n",
       "    <tr>\n",
       "      <th>4</th>\n",
       "      <td>모델</td>\n",
       "      <td>0.858032</td>\n",
       "      <td>0.257410</td>\n",
       "    </tr>\n",
       "    <tr>\n",
       "      <th>5</th>\n",
       "      <td>예쁜</td>\n",
       "      <td>0.858015</td>\n",
       "      <td>0.257404</td>\n",
       "    </tr>\n",
       "    <tr>\n",
       "      <th>6</th>\n",
       "      <td>아가</td>\n",
       "      <td>0.856936</td>\n",
       "      <td>0.257081</td>\n",
       "    </tr>\n",
       "    <tr>\n",
       "      <th>7</th>\n",
       "      <td>웃</td>\n",
       "      <td>0.848208</td>\n",
       "      <td>0.254462</td>\n",
       "    </tr>\n",
       "    <tr>\n",
       "      <th>8</th>\n",
       "      <td>31</td>\n",
       "      <td>0.842525</td>\n",
       "      <td>0.252757</td>\n",
       "    </tr>\n",
       "    <tr>\n",
       "      <th>9</th>\n",
       "      <td>베이비</td>\n",
       "      <td>0.841015</td>\n",
       "      <td>0.252305</td>\n",
       "    </tr>\n",
       "  </tbody>\n",
       "</table>\n",
       "</div>"
      ],
      "text/plain": [
       "  Token  Similarity  transition_probability\n",
       "0   귀여운    0.890392                0.267118\n",
       "1   연년생    0.883867                0.265160\n",
       "2    14    0.874923                0.262477\n",
       "3   잘생긴    0.858845                0.257653\n",
       "4    모델    0.858032                0.257410\n",
       "5    예쁜    0.858015                0.257404\n",
       "6    아가    0.856936                0.257081\n",
       "7     웃    0.848208                0.254462\n",
       "8    31    0.842525                0.252757\n",
       "9   베이비    0.841015                0.252305"
      ]
     },
     "execution_count": 17,
     "metadata": {},
     "output_type": "execute_result"
    }
   ],
   "source": [
    "df2 = pd.DataFrame(model.wv.most_similar(t,topn=10), columns = ['Token', 'Similarity'])\n",
    "alpha = 0.3\n",
    "df2['transition_probability'] = df2['Similarity'] * alpha\n",
    "df2"
   ]
  },
  {
   "cell_type": "code",
   "execution_count": 18,
   "metadata": {},
   "outputs": [
    {
     "name": "stdout",
     "output_type": "stream",
     "text": [
      "[('래미', 0.9321795701980591), ('딸랑', 0.9241142272949219), ('파파', 0.9114948511123657), ('빠', 0.9100046753883362), ('딸래미', 0.9037197232246399), ('원숭이띠', 0.9023564457893372), ('예진', 0.8983094692230225), ('내사', 0.8967379331588745), ('슈슈', 0.8872296810150146), ('초보', 0.8864464163780212)]\n"
     ]
    }
   ],
   "source": [
    "print(model.wv.most_similar('아들'))"
   ]
  },
  {
   "cell_type": "code",
   "execution_count": 19,
   "metadata": {},
   "outputs": [],
   "source": [
    "tkn_cnt = 0\n",
    "t = '아들'\n",
    "total = len(tokenized)\n",
    "for i in range(total):\n",
    "    if t in tokenized[i]:\n",
    "        tkn_cnt += 1\n",
    "p_t_curr = tkn_cnt / total\n",
    "\n",
    "p_next_list = []\n",
    "exp_cnt = 0\n",
    "for i in range(total):\n",
    "    p_list = []\n",
    "    for j in range(len(tokenized[i])):\n",
    "        cnt = 0\n",
    "        \n",
    "        for k in range(total):\n",
    "            if t + tokenized[i][j] in hashtag_list[k]:\n",
    "                cnt += 1\n",
    "        p_list.append(cnt/total)\n",
    "    p_next_list.append(p_list)\n"
   ]
  },
  {
   "cell_type": "code",
   "execution_count": 20,
   "metadata": {},
   "outputs": [
    {
     "name": "stdout",
     "output_type": "stream",
     "text": [
      "[[0.0, 0.003393665158371041, 0.0, 0.010180995475113122, 0.010180995475113122, 0.2251131221719457, 0.0, 0.0, 0.0, 0.0, 0.010180995475113122, 0.24321266968325791, 0.013574660633484163, 0.010180995475113122, 0.0011312217194570137, 0.0, 0.0, 0.0, 0.0, 0.0, 0.0, 0.0, 0.0, 0.0, 0.0, 0.0, 0.0, 0.0, 0.0, 0.0, 0.0, 0.0, 0.0, 0.0, 0.2251131221719457, 0.0, 0.2251131221719457, 0.0, 0.2251131221719457, 0.0, 0.2251131221719457, 0.0, 0.0, 0.0, 0.0, 0.0, 0.0, 0.0, 0.0, 0.0, 0.0, 0.0, 0.0, 0.0, 0.0011312217194570137, 0.0, 0.0, 0.010180995475113122, 0.003393665158371041, 0.0, 0.0], [0.0, 0.0, 0.0, 0.0, 0.0, 0.0, 0.007918552036199095, 0.0, 0.0, 0.0, 0.0, 0.0, 0.0, 0.003393665158371041, 0.0, 0.0, 0.0, 0.0, 0.0, 0.0, 0.0, 0.0, 0.2251131221719457, 0.0, 0.0022624434389140274, 0.2251131221719457, 0.0, 0.0, 0.2251131221719457, 0.0, 0.0, 0.0, 0.2251131221719457, 0.0, 0.0, 0.0, 0.0, 0.010180995475113122, 0.0011312217194570137, 0.010180995475113122, 0.0011312217194570137, 0.0, 0.0, 0.010180995475113122], [0.0, 0.0, 0.0, 0.0, 0.010180995475113122, 0.010180995475113122, 0.0011312217194570137, 0.0011312217194570137, 0.0, 0.0, 0.0, 0.0, 0.0, 0.0, 0.0, 0.2251131221719457, 0.0, 0.013574660633484163, 0.0, 0.0, 0.0, 0.0, 0.0, 0.010180995475113122, 0.0, 0.0011312217194570137, 0.0, 0.0, 0.0, 0.0, 0.0, 0.0, 0.0], [0.0, 0.0, 0.2251131221719457, 0.010180995475113122, 0.010180995475113122, 0.0011312217194570137, 0.010180995475113122, 0.0011312217194570137, 0.0, 0.0, 0.2251131221719457, 0.0, 0.24321266968325791, 0.013574660633484163, 0.0, 0.0, 0.0, 0.0, 0.0, 0.0, 0.0, 0.0, 0.0, 0.0, 0.0, 0.0, 0.0, 0.003393665158371041, 0.0], [0.0, 0.0, 0.0, 0.0, 0.0, 0.0, 0.0, 0.0022624434389140274, 0.0, 0.0, 0.0, 0.0, 0.0, 0.0, 0.2251131221719457, 0.010180995475113122, 0.010180995475113122, 0.0011312217194570137, 0.010180995475113122, 0.24321266968325791, 0.013574660633484163]]\n"
     ]
    }
   ],
   "source": [
    "print(p_next_list[:5])"
   ]
  },
  {
   "cell_type": "markdown",
   "metadata": {},
   "source": [
    "중복 토큰 삭제  \n",
    "전환, 확장"
   ]
  },
  {
   "cell_type": "code",
   "execution_count": 21,
   "metadata": {},
   "outputs": [
    {
     "name": "stdout",
     "output_type": "stream",
     "text": [
      "61\n",
      "61\n"
     ]
    }
   ],
   "source": [
    "print(len(tokenized[0]))\n",
    "print(len(p_next_list[0]))"
   ]
  },
  {
   "cell_type": "code",
   "execution_count": null,
   "metadata": {},
   "outputs": [],
   "source": []
  }
 ],
 "metadata": {
  "kernelspec": {
   "display_name": "Python 3",
   "language": "python",
   "name": "python3"
  },
  "language_info": {
   "codemirror_mode": {
    "name": "ipython",
    "version": 3
   },
   "file_extension": ".py",
   "mimetype": "text/x-python",
   "name": "python",
   "nbconvert_exporter": "python",
   "pygments_lexer": "ipython3",
   "version": "3.7.6"
  }
 },
 "nbformat": 4,
 "nbformat_minor": 4
}
